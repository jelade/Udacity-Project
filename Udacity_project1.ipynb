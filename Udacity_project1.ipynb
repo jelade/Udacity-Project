{
 "cells": [
  {
   "cell_type": "markdown",
   "id": "857bf050",
   "metadata": {},
   "source": [
    "\n",
    "\n",
    "# Project 1: Investigate medical appointments in Brazil \n",
    "\n",
    "## Table of Contents\n",
    "<ul>\n",
    "<li><a href=\"#intro\">Introduction</a></li>\n",
    "<li><a href=\"#wrangling\">Data Wrangling</a></li>\n",
    "<li><a href=\"#eda\">Exploratory Data Analysis</a></li>\n",
    "<li><a href=\"#conclusions\">Conclusions</a></li>\n",
    "</ul>"
   ]
  },
  {
   "cell_type": "markdown",
   "id": "aeed61be",
   "metadata": {},
   "source": [
    "<a id='intro'></a>\n",
    "## Introduction\n",
    "\n",
    "> This dataset collects information from 100k medical appointments in Brazil and is focused on the question of whether or not patients show up for their appointment. A number of characteristics about the patient are included in each row.\n",
    "\n",
    "<li>‘ScheduledDay’ tells us on what day the patient set up their appointment.</li>\n",
    "<li>‘Neighborhood’ indicates the location of the hospital.</li>\n",
    "<li>‘Scholarship’ indicates whether or not the patient is enrolled in Brasilian welfare program Bolsa Família.</li>\n",
    "<li> it says ‘No’ if the patient showed up to their appointment, and ‘Yes’ if they did not show up.</li>\n"
   ]
  },
  {
   "cell_type": "markdown",
   "id": "2f83c442",
   "metadata": {},
   "source": [
    "**Importation of the needed library**"
   ]
  },
  {
   "cell_type": "code",
   "execution_count": 1,
   "id": "138ce22e",
   "metadata": {},
   "outputs": [],
   "source": [
    "import pandas as pd\n",
    "import numpy as np\n",
    "import matplotlib.pyplot as plt\n",
    "import seaborn as sns\n",
    "import datetime as dt\n",
    "%matplotlib inline"
   ]
  },
  {
   "cell_type": "markdown",
   "id": "bd8b4ff7",
   "metadata": {},
   "source": [
    "<a id='wrangling'></a>\n",
    "## Data Wrangling\n",
    "\n",
    "**In this section the needed data used was loading to the working environment using pandas. Also, we checked for data type and investigate the basic trend present in the data. The missing value was check and the data do not have any missing data.**\n",
    "### General Properties"
   ]
  },
  {
   "cell_type": "code",
   "execution_count": 2,
   "id": "7efec036",
   "metadata": {},
   "outputs": [],
   "source": [
    "#Data importation\n",
    "df = pd.read_csv(\"noshowappointments-kagglev2-may-2016.csv\")"
   ]
  },
  {
   "cell_type": "code",
   "execution_count": 3,
   "id": "c54bf598",
   "metadata": {},
   "outputs": [
    {
     "data": {
      "text/html": [
       "<div>\n",
       "<style scoped>\n",
       "    .dataframe tbody tr th:only-of-type {\n",
       "        vertical-align: middle;\n",
       "    }\n",
       "\n",
       "    .dataframe tbody tr th {\n",
       "        vertical-align: top;\n",
       "    }\n",
       "\n",
       "    .dataframe thead th {\n",
       "        text-align: right;\n",
       "    }\n",
       "</style>\n",
       "<table border=\"1\" class=\"dataframe\">\n",
       "  <thead>\n",
       "    <tr style=\"text-align: right;\">\n",
       "      <th></th>\n",
       "      <th>PatientId</th>\n",
       "      <th>AppointmentID</th>\n",
       "      <th>Gender</th>\n",
       "      <th>ScheduledDay</th>\n",
       "      <th>AppointmentDay</th>\n",
       "      <th>Age</th>\n",
       "      <th>Neighbourhood</th>\n",
       "      <th>Scholarship</th>\n",
       "      <th>Hipertension</th>\n",
       "      <th>Diabetes</th>\n",
       "      <th>Alcoholism</th>\n",
       "      <th>Handcap</th>\n",
       "      <th>SMS_received</th>\n",
       "      <th>No-show</th>\n",
       "    </tr>\n",
       "  </thead>\n",
       "  <tbody>\n",
       "    <tr>\n",
       "      <th>0</th>\n",
       "      <td>2.987250e+13</td>\n",
       "      <td>5642903</td>\n",
       "      <td>F</td>\n",
       "      <td>2016-04-29T18:38:08Z</td>\n",
       "      <td>2016-04-29T00:00:00Z</td>\n",
       "      <td>62</td>\n",
       "      <td>JARDIM DA PENHA</td>\n",
       "      <td>0</td>\n",
       "      <td>1</td>\n",
       "      <td>0</td>\n",
       "      <td>0</td>\n",
       "      <td>0</td>\n",
       "      <td>0</td>\n",
       "      <td>No</td>\n",
       "    </tr>\n",
       "    <tr>\n",
       "      <th>1</th>\n",
       "      <td>5.589978e+14</td>\n",
       "      <td>5642503</td>\n",
       "      <td>M</td>\n",
       "      <td>2016-04-29T16:08:27Z</td>\n",
       "      <td>2016-04-29T00:00:00Z</td>\n",
       "      <td>56</td>\n",
       "      <td>JARDIM DA PENHA</td>\n",
       "      <td>0</td>\n",
       "      <td>0</td>\n",
       "      <td>0</td>\n",
       "      <td>0</td>\n",
       "      <td>0</td>\n",
       "      <td>0</td>\n",
       "      <td>No</td>\n",
       "    </tr>\n",
       "    <tr>\n",
       "      <th>2</th>\n",
       "      <td>4.262962e+12</td>\n",
       "      <td>5642549</td>\n",
       "      <td>F</td>\n",
       "      <td>2016-04-29T16:19:04Z</td>\n",
       "      <td>2016-04-29T00:00:00Z</td>\n",
       "      <td>62</td>\n",
       "      <td>MATA DA PRAIA</td>\n",
       "      <td>0</td>\n",
       "      <td>0</td>\n",
       "      <td>0</td>\n",
       "      <td>0</td>\n",
       "      <td>0</td>\n",
       "      <td>0</td>\n",
       "      <td>No</td>\n",
       "    </tr>\n",
       "    <tr>\n",
       "      <th>3</th>\n",
       "      <td>8.679512e+11</td>\n",
       "      <td>5642828</td>\n",
       "      <td>F</td>\n",
       "      <td>2016-04-29T17:29:31Z</td>\n",
       "      <td>2016-04-29T00:00:00Z</td>\n",
       "      <td>8</td>\n",
       "      <td>PONTAL DE CAMBURI</td>\n",
       "      <td>0</td>\n",
       "      <td>0</td>\n",
       "      <td>0</td>\n",
       "      <td>0</td>\n",
       "      <td>0</td>\n",
       "      <td>0</td>\n",
       "      <td>No</td>\n",
       "    </tr>\n",
       "    <tr>\n",
       "      <th>4</th>\n",
       "      <td>8.841186e+12</td>\n",
       "      <td>5642494</td>\n",
       "      <td>F</td>\n",
       "      <td>2016-04-29T16:07:23Z</td>\n",
       "      <td>2016-04-29T00:00:00Z</td>\n",
       "      <td>56</td>\n",
       "      <td>JARDIM DA PENHA</td>\n",
       "      <td>0</td>\n",
       "      <td>1</td>\n",
       "      <td>1</td>\n",
       "      <td>0</td>\n",
       "      <td>0</td>\n",
       "      <td>0</td>\n",
       "      <td>No</td>\n",
       "    </tr>\n",
       "  </tbody>\n",
       "</table>\n",
       "</div>"
      ],
      "text/plain": [
       "      PatientId  AppointmentID Gender          ScheduledDay  \\\n",
       "0  2.987250e+13        5642903      F  2016-04-29T18:38:08Z   \n",
       "1  5.589978e+14        5642503      M  2016-04-29T16:08:27Z   \n",
       "2  4.262962e+12        5642549      F  2016-04-29T16:19:04Z   \n",
       "3  8.679512e+11        5642828      F  2016-04-29T17:29:31Z   \n",
       "4  8.841186e+12        5642494      F  2016-04-29T16:07:23Z   \n",
       "\n",
       "         AppointmentDay  Age      Neighbourhood  Scholarship  Hipertension  \\\n",
       "0  2016-04-29T00:00:00Z   62    JARDIM DA PENHA            0             1   \n",
       "1  2016-04-29T00:00:00Z   56    JARDIM DA PENHA            0             0   \n",
       "2  2016-04-29T00:00:00Z   62      MATA DA PRAIA            0             0   \n",
       "3  2016-04-29T00:00:00Z    8  PONTAL DE CAMBURI            0             0   \n",
       "4  2016-04-29T00:00:00Z   56    JARDIM DA PENHA            0             1   \n",
       "\n",
       "   Diabetes  Alcoholism  Handcap  SMS_received No-show  \n",
       "0         0           0        0             0      No  \n",
       "1         0           0        0             0      No  \n",
       "2         0           0        0             0      No  \n",
       "3         0           0        0             0      No  \n",
       "4         1           0        0             0      No  "
      ]
     },
     "execution_count": 3,
     "metadata": {},
     "output_type": "execute_result"
    }
   ],
   "source": [
    "#Checking the first five row\n",
    "df.head()"
   ]
  },
  {
   "cell_type": "code",
   "execution_count": 4,
   "id": "66dc66c6",
   "metadata": {},
   "outputs": [
    {
     "data": {
      "text/plain": [
       "PatientId         0\n",
       "AppointmentID     0\n",
       "Gender            0\n",
       "ScheduledDay      0\n",
       "AppointmentDay    0\n",
       "Age               0\n",
       "Neighbourhood     0\n",
       "Scholarship       0\n",
       "Hipertension      0\n",
       "Diabetes          0\n",
       "Alcoholism        0\n",
       "Handcap           0\n",
       "SMS_received      0\n",
       "No-show           0\n",
       "dtype: int64"
      ]
     },
     "execution_count": 4,
     "metadata": {},
     "output_type": "execute_result"
    }
   ],
   "source": [
    "#Checking for the missing value\n",
    "df.isnull().sum()"
   ]
  },
  {
   "cell_type": "markdown",
   "id": "f268a91d",
   "metadata": {},
   "source": [
    "There is no missing value in the dataset. The next cell we check for the sumary of the data."
   ]
  },
  {
   "cell_type": "code",
   "execution_count": 5,
   "id": "8a6d1ce1",
   "metadata": {},
   "outputs": [
    {
     "data": {
      "text/html": [
       "<div>\n",
       "<style scoped>\n",
       "    .dataframe tbody tr th:only-of-type {\n",
       "        vertical-align: middle;\n",
       "    }\n",
       "\n",
       "    .dataframe tbody tr th {\n",
       "        vertical-align: top;\n",
       "    }\n",
       "\n",
       "    .dataframe thead th {\n",
       "        text-align: right;\n",
       "    }\n",
       "</style>\n",
       "<table border=\"1\" class=\"dataframe\">\n",
       "  <thead>\n",
       "    <tr style=\"text-align: right;\">\n",
       "      <th></th>\n",
       "      <th>PatientId</th>\n",
       "      <th>AppointmentID</th>\n",
       "      <th>Age</th>\n",
       "      <th>Scholarship</th>\n",
       "      <th>Hipertension</th>\n",
       "      <th>Diabetes</th>\n",
       "      <th>Alcoholism</th>\n",
       "      <th>Handcap</th>\n",
       "      <th>SMS_received</th>\n",
       "    </tr>\n",
       "  </thead>\n",
       "  <tbody>\n",
       "    <tr>\n",
       "      <th>count</th>\n",
       "      <td>1.105270e+05</td>\n",
       "      <td>1.105270e+05</td>\n",
       "      <td>110527.000000</td>\n",
       "      <td>110527.000000</td>\n",
       "      <td>110527.000000</td>\n",
       "      <td>110527.000000</td>\n",
       "      <td>110527.000000</td>\n",
       "      <td>110527.000000</td>\n",
       "      <td>110527.000000</td>\n",
       "    </tr>\n",
       "    <tr>\n",
       "      <th>mean</th>\n",
       "      <td>1.474963e+14</td>\n",
       "      <td>5.675305e+06</td>\n",
       "      <td>37.088874</td>\n",
       "      <td>0.098266</td>\n",
       "      <td>0.197246</td>\n",
       "      <td>0.071865</td>\n",
       "      <td>0.030400</td>\n",
       "      <td>0.022248</td>\n",
       "      <td>0.321026</td>\n",
       "    </tr>\n",
       "    <tr>\n",
       "      <th>std</th>\n",
       "      <td>2.560949e+14</td>\n",
       "      <td>7.129575e+04</td>\n",
       "      <td>23.110205</td>\n",
       "      <td>0.297675</td>\n",
       "      <td>0.397921</td>\n",
       "      <td>0.258265</td>\n",
       "      <td>0.171686</td>\n",
       "      <td>0.161543</td>\n",
       "      <td>0.466873</td>\n",
       "    </tr>\n",
       "    <tr>\n",
       "      <th>min</th>\n",
       "      <td>3.921784e+04</td>\n",
       "      <td>5.030230e+06</td>\n",
       "      <td>-1.000000</td>\n",
       "      <td>0.000000</td>\n",
       "      <td>0.000000</td>\n",
       "      <td>0.000000</td>\n",
       "      <td>0.000000</td>\n",
       "      <td>0.000000</td>\n",
       "      <td>0.000000</td>\n",
       "    </tr>\n",
       "    <tr>\n",
       "      <th>25%</th>\n",
       "      <td>4.172614e+12</td>\n",
       "      <td>5.640286e+06</td>\n",
       "      <td>18.000000</td>\n",
       "      <td>0.000000</td>\n",
       "      <td>0.000000</td>\n",
       "      <td>0.000000</td>\n",
       "      <td>0.000000</td>\n",
       "      <td>0.000000</td>\n",
       "      <td>0.000000</td>\n",
       "    </tr>\n",
       "    <tr>\n",
       "      <th>50%</th>\n",
       "      <td>3.173184e+13</td>\n",
       "      <td>5.680573e+06</td>\n",
       "      <td>37.000000</td>\n",
       "      <td>0.000000</td>\n",
       "      <td>0.000000</td>\n",
       "      <td>0.000000</td>\n",
       "      <td>0.000000</td>\n",
       "      <td>0.000000</td>\n",
       "      <td>0.000000</td>\n",
       "    </tr>\n",
       "    <tr>\n",
       "      <th>75%</th>\n",
       "      <td>9.439172e+13</td>\n",
       "      <td>5.725524e+06</td>\n",
       "      <td>55.000000</td>\n",
       "      <td>0.000000</td>\n",
       "      <td>0.000000</td>\n",
       "      <td>0.000000</td>\n",
       "      <td>0.000000</td>\n",
       "      <td>0.000000</td>\n",
       "      <td>1.000000</td>\n",
       "    </tr>\n",
       "    <tr>\n",
       "      <th>max</th>\n",
       "      <td>9.999816e+14</td>\n",
       "      <td>5.790484e+06</td>\n",
       "      <td>115.000000</td>\n",
       "      <td>1.000000</td>\n",
       "      <td>1.000000</td>\n",
       "      <td>1.000000</td>\n",
       "      <td>1.000000</td>\n",
       "      <td>4.000000</td>\n",
       "      <td>1.000000</td>\n",
       "    </tr>\n",
       "  </tbody>\n",
       "</table>\n",
       "</div>"
      ],
      "text/plain": [
       "          PatientId  AppointmentID            Age    Scholarship  \\\n",
       "count  1.105270e+05   1.105270e+05  110527.000000  110527.000000   \n",
       "mean   1.474963e+14   5.675305e+06      37.088874       0.098266   \n",
       "std    2.560949e+14   7.129575e+04      23.110205       0.297675   \n",
       "min    3.921784e+04   5.030230e+06      -1.000000       0.000000   \n",
       "25%    4.172614e+12   5.640286e+06      18.000000       0.000000   \n",
       "50%    3.173184e+13   5.680573e+06      37.000000       0.000000   \n",
       "75%    9.439172e+13   5.725524e+06      55.000000       0.000000   \n",
       "max    9.999816e+14   5.790484e+06     115.000000       1.000000   \n",
       "\n",
       "        Hipertension       Diabetes     Alcoholism        Handcap  \\\n",
       "count  110527.000000  110527.000000  110527.000000  110527.000000   \n",
       "mean        0.197246       0.071865       0.030400       0.022248   \n",
       "std         0.397921       0.258265       0.171686       0.161543   \n",
       "min         0.000000       0.000000       0.000000       0.000000   \n",
       "25%         0.000000       0.000000       0.000000       0.000000   \n",
       "50%         0.000000       0.000000       0.000000       0.000000   \n",
       "75%         0.000000       0.000000       0.000000       0.000000   \n",
       "max         1.000000       1.000000       1.000000       4.000000   \n",
       "\n",
       "        SMS_received  \n",
       "count  110527.000000  \n",
       "mean        0.321026  \n",
       "std         0.466873  \n",
       "min         0.000000  \n",
       "25%         0.000000  \n",
       "50%         0.000000  \n",
       "75%         1.000000  \n",
       "max         1.000000  "
      ]
     },
     "execution_count": 5,
     "metadata": {},
     "output_type": "execute_result"
    }
   ],
   "source": [
    "df.describe()"
   ]
  },
  {
   "cell_type": "markdown",
   "id": "45a85a66",
   "metadata": {},
   "source": [
    "The total count of the row is 110527. The minimum age is less that a year. There is a negative value in the age will should be removed from thr data set."
   ]
  },
  {
   "cell_type": "code",
   "execution_count": 6,
   "id": "77c73884",
   "metadata": {},
   "outputs": [
    {
     "name": "stdout",
     "output_type": "stream",
     "text": [
      "<class 'pandas.core.frame.DataFrame'>\n",
      "RangeIndex: 110527 entries, 0 to 110526\n",
      "Data columns (total 14 columns):\n",
      " #   Column          Non-Null Count   Dtype  \n",
      "---  ------          --------------   -----  \n",
      " 0   PatientId       110527 non-null  float64\n",
      " 1   AppointmentID   110527 non-null  int64  \n",
      " 2   Gender          110527 non-null  object \n",
      " 3   ScheduledDay    110527 non-null  object \n",
      " 4   AppointmentDay  110527 non-null  object \n",
      " 5   Age             110527 non-null  int64  \n",
      " 6   Neighbourhood   110527 non-null  object \n",
      " 7   Scholarship     110527 non-null  int64  \n",
      " 8   Hipertension    110527 non-null  int64  \n",
      " 9   Diabetes        110527 non-null  int64  \n",
      " 10  Alcoholism      110527 non-null  int64  \n",
      " 11  Handcap         110527 non-null  int64  \n",
      " 12  SMS_received    110527 non-null  int64  \n",
      " 13  No-show         110527 non-null  object \n",
      "dtypes: float64(1), int64(8), object(5)\n",
      "memory usage: 11.8+ MB\n"
     ]
    }
   ],
   "source": [
    "#Checking the properties of each column\n",
    "df.info()"
   ]
  },
  {
   "cell_type": "code",
   "execution_count": 7,
   "id": "025d1f4c",
   "metadata": {},
   "outputs": [
    {
     "data": {
      "text/plain": [
       " 0      3539\n",
       " 1      2273\n",
       " 52     1746\n",
       " 49     1652\n",
       " 53     1651\n",
       "        ... \n",
       " 115       5\n",
       " 100       4\n",
       " 102       2\n",
       " 99        1\n",
       "-1         1\n",
       "Name: Age, Length: 104, dtype: int64"
      ]
     },
     "execution_count": 7,
     "metadata": {},
     "output_type": "execute_result"
    }
   ],
   "source": [
    "#Checking age distribution\n",
    "df.Age.value_counts()"
   ]
  },
  {
   "cell_type": "markdown",
   "id": "468cb223",
   "metadata": {},
   "source": [
    "### Data Cleaning"
   ]
  },
  {
   "cell_type": "code",
   "execution_count": 8,
   "id": "09b82106",
   "metadata": {},
   "outputs": [],
   "source": [
    "#droping Age that are negative\n",
    "df = df[~df['Age']<0]"
   ]
  },
  {
   "cell_type": "code",
   "execution_count": 9,
   "id": "0e08f78a",
   "metadata": {},
   "outputs": [],
   "source": [
    "#Functon to check the unique count of each column\n",
    "def unique(data):\n",
    "    for i in data.columns:\n",
    "        print(i,'=',data[i].nunique())"
   ]
  },
  {
   "cell_type": "code",
   "execution_count": 10,
   "id": "ec10b265",
   "metadata": {},
   "outputs": [
    {
     "name": "stdout",
     "output_type": "stream",
     "text": [
      "PatientId = 62298\n",
      "AppointmentID = 110526\n",
      "Gender = 2\n",
      "ScheduledDay = 103548\n",
      "AppointmentDay = 27\n",
      "Age = 103\n",
      "Neighbourhood = 81\n",
      "Scholarship = 2\n",
      "Hipertension = 2\n",
      "Diabetes = 2\n",
      "Alcoholism = 2\n",
      "Handcap = 5\n",
      "SMS_received = 2\n",
      "No-show = 2\n"
     ]
    }
   ],
   "source": [
    "unique(df)"
   ]
  },
  {
   "cell_type": "markdown",
   "id": "3a0db123",
   "metadata": {},
   "source": [
    "It can be seen that the handicape column has four response which suppose to be two. The remaining may be due to wrong inputation which will be dropped before the exploration. "
   ]
  },
  {
   "cell_type": "code",
   "execution_count": 11,
   "id": "4cc13f6d",
   "metadata": {},
   "outputs": [
    {
     "data": {
      "text/plain": [
       "0    108285\n",
       "1      2042\n",
       "2       183\n",
       "3        13\n",
       "4         3\n",
       "Name: Handcap, dtype: int64"
      ]
     },
     "execution_count": 11,
     "metadata": {},
     "output_type": "execute_result"
    }
   ],
   "source": [
    "df.Handcap.value_counts()"
   ]
  },
  {
   "cell_type": "code",
   "execution_count": 12,
   "id": "c12dfca9",
   "metadata": {},
   "outputs": [
    {
     "data": {
      "text/plain": [
       "0    108285\n",
       "1      2042\n",
       "Name: Handcap, dtype: int64"
      ]
     },
     "execution_count": 12,
     "metadata": {},
     "output_type": "execute_result"
    }
   ],
   "source": [
    "#Subsetting the handica column to contain only zero and one\n",
    "df = df[df['Handcap']<2]\n",
    "df.Handcap.value_counts()"
   ]
  },
  {
   "cell_type": "code",
   "execution_count": 13,
   "id": "d4d24258",
   "metadata": {},
   "outputs": [],
   "source": [
    "#Dropping the variable that are not needed\n",
    "df.drop([\"PatientId\",\"AppointmentID\"], axis = 1, inplace = True)"
   ]
  },
  {
   "cell_type": "code",
   "execution_count": 14,
   "id": "1c525840",
   "metadata": {},
   "outputs": [],
   "source": [
    "#Strimming the AppointmentDay and ScheduledDay column to inlude only date not date and time\n",
    "df['AppointmentDay'] = df['AppointmentDay'].str[:-10]\n",
    "df['ScheduledDay'] = df['ScheduledDay'].str[:-10]\n",
    "\n",
    "\n",
    "# Convert AppointmentDay and ScheduledDay column types to datetime \n",
    "df['AppointmentDay'] = pd.to_datetime(df['AppointmentDay'])\n",
    "df['ScheduledDay'] = pd.to_datetime(df['ScheduledDay'])"
   ]
  },
  {
   "cell_type": "code",
   "execution_count": 15,
   "id": "689fd1df",
   "metadata": {},
   "outputs": [
    {
     "data": {
      "text/html": [
       "<div>\n",
       "<style scoped>\n",
       "    .dataframe tbody tr th:only-of-type {\n",
       "        vertical-align: middle;\n",
       "    }\n",
       "\n",
       "    .dataframe tbody tr th {\n",
       "        vertical-align: top;\n",
       "    }\n",
       "\n",
       "    .dataframe thead th {\n",
       "        text-align: right;\n",
       "    }\n",
       "</style>\n",
       "<table border=\"1\" class=\"dataframe\">\n",
       "  <thead>\n",
       "    <tr style=\"text-align: right;\">\n",
       "      <th></th>\n",
       "      <th>Gender</th>\n",
       "      <th>ScheduledDay</th>\n",
       "      <th>AppointmentDay</th>\n",
       "      <th>Age</th>\n",
       "      <th>Neighbourhood</th>\n",
       "      <th>Scholarship</th>\n",
       "      <th>Hipertension</th>\n",
       "      <th>Diabetes</th>\n",
       "      <th>Alcoholism</th>\n",
       "      <th>Handcap</th>\n",
       "      <th>SMS_received</th>\n",
       "      <th>No-show</th>\n",
       "    </tr>\n",
       "  </thead>\n",
       "  <tbody>\n",
       "    <tr>\n",
       "      <th>0</th>\n",
       "      <td>F</td>\n",
       "      <td>2016-04-29</td>\n",
       "      <td>2016-04-29</td>\n",
       "      <td>62</td>\n",
       "      <td>JARDIM DA PENHA</td>\n",
       "      <td>0</td>\n",
       "      <td>1</td>\n",
       "      <td>0</td>\n",
       "      <td>0</td>\n",
       "      <td>0</td>\n",
       "      <td>0</td>\n",
       "      <td>No</td>\n",
       "    </tr>\n",
       "    <tr>\n",
       "      <th>1</th>\n",
       "      <td>M</td>\n",
       "      <td>2016-04-29</td>\n",
       "      <td>2016-04-29</td>\n",
       "      <td>56</td>\n",
       "      <td>JARDIM DA PENHA</td>\n",
       "      <td>0</td>\n",
       "      <td>0</td>\n",
       "      <td>0</td>\n",
       "      <td>0</td>\n",
       "      <td>0</td>\n",
       "      <td>0</td>\n",
       "      <td>No</td>\n",
       "    </tr>\n",
       "    <tr>\n",
       "      <th>2</th>\n",
       "      <td>F</td>\n",
       "      <td>2016-04-29</td>\n",
       "      <td>2016-04-29</td>\n",
       "      <td>62</td>\n",
       "      <td>MATA DA PRAIA</td>\n",
       "      <td>0</td>\n",
       "      <td>0</td>\n",
       "      <td>0</td>\n",
       "      <td>0</td>\n",
       "      <td>0</td>\n",
       "      <td>0</td>\n",
       "      <td>No</td>\n",
       "    </tr>\n",
       "    <tr>\n",
       "      <th>3</th>\n",
       "      <td>F</td>\n",
       "      <td>2016-04-29</td>\n",
       "      <td>2016-04-29</td>\n",
       "      <td>8</td>\n",
       "      <td>PONTAL DE CAMBURI</td>\n",
       "      <td>0</td>\n",
       "      <td>0</td>\n",
       "      <td>0</td>\n",
       "      <td>0</td>\n",
       "      <td>0</td>\n",
       "      <td>0</td>\n",
       "      <td>No</td>\n",
       "    </tr>\n",
       "    <tr>\n",
       "      <th>4</th>\n",
       "      <td>F</td>\n",
       "      <td>2016-04-29</td>\n",
       "      <td>2016-04-29</td>\n",
       "      <td>56</td>\n",
       "      <td>JARDIM DA PENHA</td>\n",
       "      <td>0</td>\n",
       "      <td>1</td>\n",
       "      <td>1</td>\n",
       "      <td>0</td>\n",
       "      <td>0</td>\n",
       "      <td>0</td>\n",
       "      <td>No</td>\n",
       "    </tr>\n",
       "  </tbody>\n",
       "</table>\n",
       "</div>"
      ],
      "text/plain": [
       "  Gender ScheduledDay AppointmentDay  Age      Neighbourhood  Scholarship  \\\n",
       "0      F   2016-04-29     2016-04-29   62    JARDIM DA PENHA            0   \n",
       "1      M   2016-04-29     2016-04-29   56    JARDIM DA PENHA            0   \n",
       "2      F   2016-04-29     2016-04-29   62      MATA DA PRAIA            0   \n",
       "3      F   2016-04-29     2016-04-29    8  PONTAL DE CAMBURI            0   \n",
       "4      F   2016-04-29     2016-04-29   56    JARDIM DA PENHA            0   \n",
       "\n",
       "   Hipertension  Diabetes  Alcoholism  Handcap  SMS_received No-show  \n",
       "0             1         0           0        0             0      No  \n",
       "1             0         0           0        0             0      No  \n",
       "2             0         0           0        0             0      No  \n",
       "3             0         0           0        0             0      No  \n",
       "4             1         1           0        0             0      No  "
      ]
     },
     "execution_count": 15,
     "metadata": {},
     "output_type": "execute_result"
    }
   ],
   "source": [
    "df.head()"
   ]
  },
  {
   "cell_type": "markdown",
   "id": "d7e32948",
   "metadata": {},
   "source": [
    "The AppointmentDay and ScheduledDay column should be observed, it can be seen that the column contain only date."
   ]
  },
  {
   "cell_type": "markdown",
   "id": "1eb3a205",
   "metadata": {},
   "source": [
    "<a id='eda'></a>\n",
    "## Exploratory Data Analysis\n",
    "\n",
    "### Research Question 1: What factors are important for us to know in order to predict if a patient will show up for their scheduled appointment?\n",
    "\n",
    "In this section, the factors that are importance to know if a patient will come for appointment."
   ]
  },
  {
   "cell_type": "code",
   "execution_count": 16,
   "id": "1a1bfd89",
   "metadata": {},
   "outputs": [
    {
     "data": {
      "image/png": "[encoded data removed]",
      "text/plain": [
       "<Figure size 432x288 with 1 Axes>"
      ]
     },
     "metadata": {},
     "output_type": "display_data"
    }
   ],
   "source": [
    "#Comparing te number of that show up and those that didn't show\n",
    "\n",
    "bar=['No','Yes ']\n",
    "df['No-show'].value_counts().plot(kind='pie', labels = bar,autopct='%1.1f%%')\n",
    "#plt.xticks(range(2),bar, rotation = 0)\n",
    "#plt.xlabel('Travel Insurance')\n",
    "plt.title('Patient no Show up for appointment')\n",
    "plt.show()"
   ]
  },
  {
   "cell_type": "markdown",
   "id": "e8df51a8",
   "metadata": {},
   "source": [
    "The pie chart shows that majority which is 79.8% of the patient show up for thier appointment. In th enext slide, We will compare the distribution of the patient based on the appointment show up."
   ]
  },
  {
   "cell_type": "code",
   "execution_count": 90,
   "id": "60a8e10b",
   "metadata": {},
   "outputs": [
    {
     "data": {
      "image/png": "[encoded data removed]",
      "text/plain": [
       "<Figure size 432x288 with 1 Axes>"
      ]
     },
     "metadata": {},
     "output_type": "display_data"
    }
   ],
   "source": [
    "#Distribution of the patient based on the appointment show up\n",
    "sns.set()\n",
    "plt.hist(df[df['No-show']=='No'].Age, label = 'Show-up')\n",
    "plt.hist(df[df['No-show']=='Yes'].Age, color = 'r', label = 'No show-up')\n",
    "plt.title('Histogram of Age distribution by No-show')\n",
    "plt.xlabel('Age')\n",
    "plt.legend()\n",
    "plt.ylabel('Patient distribution')\n",
    "plt.show()"
   ]
  },
  {
   "cell_type": "markdown",
   "id": "cdf4b7de",
   "metadata": {},
   "source": [
    "The histogram shows that patient between the age less than 15 years old show for appointment more compare to other, followed by patient between the age of 45 and 60. The patient that do not show up for appointment most are with the age range less than 35 years old. The age will be grouped in the next cell.\n"
   ]
  },
  {
   "cell_type": "code",
   "execution_count": 18,
   "id": "8428ea04",
   "metadata": {},
   "outputs": [],
   "source": [
    "#width = 0.85\n",
    "#plt.figure(figsize=(10,7))\n",
    "#sns.catplot('AppointmentDay', data = df, kind = 'count')\n",
    "#plt.xticks(rotation = 90)\n",
    "\n",
    "#plt.show()"
   ]
  },
  {
   "cell_type": "code",
   "execution_count": 20,
   "id": "8a6dd6f0",
   "metadata": {},
   "outputs": [],
   "source": [
    "#This function was used to group the age column to different age group\n",
    "def cate(i):\n",
    "    age1=[]\n",
    "    for age in df[i]:\n",
    "        if age <= 20:\n",
    "            age=1\n",
    "            age1.append(age)\n",
    "        elif 21<= age <= 40:\n",
    "            age=2\n",
    "            age1.append(age)\n",
    "        elif 41<= age <= 60:\n",
    "            age=3\n",
    "            age1.append(age)\n",
    "        elif 61<= age <= 80:\n",
    "            age=4\n",
    "            age1.append(age)\n",
    "        else:\n",
    "            age=5\n",
    "            age1.append(age)\n",
    "    return age1\n",
    "    "
   ]
  },
  {
   "cell_type": "code",
   "execution_count": 21,
   "id": "3f41d10d",
   "metadata": {},
   "outputs": [],
   "source": [
    "#Adding new agr column\n",
    "df['age_c'] = cate('Age')"
   ]
  },
  {
   "cell_type": "code",
   "execution_count": 22,
   "id": "279566aa",
   "metadata": {},
   "outputs": [
    {
     "data": {
      "text/html": [
       "<div>\n",
       "<style scoped>\n",
       "    .dataframe tbody tr th:only-of-type {\n",
       "        vertical-align: middle;\n",
       "    }\n",
       "\n",
       "    .dataframe tbody tr th {\n",
       "        vertical-align: top;\n",
       "    }\n",
       "\n",
       "    .dataframe thead th {\n",
       "        text-align: right;\n",
       "    }\n",
       "</style>\n",
       "<table border=\"1\" class=\"dataframe\">\n",
       "  <thead>\n",
       "    <tr style=\"text-align: right;\">\n",
       "      <th></th>\n",
       "      <th>Gender</th>\n",
       "      <th>ScheduledDay</th>\n",
       "      <th>AppointmentDay</th>\n",
       "      <th>Age</th>\n",
       "      <th>Neighbourhood</th>\n",
       "      <th>Scholarship</th>\n",
       "      <th>Hipertension</th>\n",
       "      <th>Diabetes</th>\n",
       "      <th>Alcoholism</th>\n",
       "      <th>Handcap</th>\n",
       "      <th>SMS_received</th>\n",
       "      <th>No-show</th>\n",
       "      <th>age_c</th>\n",
       "    </tr>\n",
       "  </thead>\n",
       "  <tbody>\n",
       "    <tr>\n",
       "      <th>0</th>\n",
       "      <td>F</td>\n",
       "      <td>2016-04-29</td>\n",
       "      <td>2016-04-29</td>\n",
       "      <td>62</td>\n",
       "      <td>JARDIM DA PENHA</td>\n",
       "      <td>0</td>\n",
       "      <td>1</td>\n",
       "      <td>0</td>\n",
       "      <td>0</td>\n",
       "      <td>0</td>\n",
       "      <td>0</td>\n",
       "      <td>No</td>\n",
       "      <td>4</td>\n",
       "    </tr>\n",
       "    <tr>\n",
       "      <th>1</th>\n",
       "      <td>M</td>\n",
       "      <td>2016-04-29</td>\n",
       "      <td>2016-04-29</td>\n",
       "      <td>56</td>\n",
       "      <td>JARDIM DA PENHA</td>\n",
       "      <td>0</td>\n",
       "      <td>0</td>\n",
       "      <td>0</td>\n",
       "      <td>0</td>\n",
       "      <td>0</td>\n",
       "      <td>0</td>\n",
       "      <td>No</td>\n",
       "      <td>3</td>\n",
       "    </tr>\n",
       "    <tr>\n",
       "      <th>2</th>\n",
       "      <td>F</td>\n",
       "      <td>2016-04-29</td>\n",
       "      <td>2016-04-29</td>\n",
       "      <td>62</td>\n",
       "      <td>MATA DA PRAIA</td>\n",
       "      <td>0</td>\n",
       "      <td>0</td>\n",
       "      <td>0</td>\n",
       "      <td>0</td>\n",
       "      <td>0</td>\n",
       "      <td>0</td>\n",
       "      <td>No</td>\n",
       "      <td>4</td>\n",
       "    </tr>\n",
       "    <tr>\n",
       "      <th>3</th>\n",
       "      <td>F</td>\n",
       "      <td>2016-04-29</td>\n",
       "      <td>2016-04-29</td>\n",
       "      <td>8</td>\n",
       "      <td>PONTAL DE CAMBURI</td>\n",
       "      <td>0</td>\n",
       "      <td>0</td>\n",
       "      <td>0</td>\n",
       "      <td>0</td>\n",
       "      <td>0</td>\n",
       "      <td>0</td>\n",
       "      <td>No</td>\n",
       "      <td>1</td>\n",
       "    </tr>\n",
       "    <tr>\n",
       "      <th>4</th>\n",
       "      <td>F</td>\n",
       "      <td>2016-04-29</td>\n",
       "      <td>2016-04-29</td>\n",
       "      <td>56</td>\n",
       "      <td>JARDIM DA PENHA</td>\n",
       "      <td>0</td>\n",
       "      <td>1</td>\n",
       "      <td>1</td>\n",
       "      <td>0</td>\n",
       "      <td>0</td>\n",
       "      <td>0</td>\n",
       "      <td>No</td>\n",
       "      <td>3</td>\n",
       "    </tr>\n",
       "  </tbody>\n",
       "</table>\n",
       "</div>"
      ],
      "text/plain": [
       "  Gender ScheduledDay AppointmentDay  Age      Neighbourhood  Scholarship  \\\n",
       "0      F   2016-04-29     2016-04-29   62    JARDIM DA PENHA            0   \n",
       "1      M   2016-04-29     2016-04-29   56    JARDIM DA PENHA            0   \n",
       "2      F   2016-04-29     2016-04-29   62      MATA DA PRAIA            0   \n",
       "3      F   2016-04-29     2016-04-29    8  PONTAL DE CAMBURI            0   \n",
       "4      F   2016-04-29     2016-04-29   56    JARDIM DA PENHA            0   \n",
       "\n",
       "   Hipertension  Diabetes  Alcoholism  Handcap  SMS_received No-show  age_c  \n",
       "0             1         0           0        0             0      No      4  \n",
       "1             0         0           0        0             0      No      3  \n",
       "2             0         0           0        0             0      No      4  \n",
       "3             0         0           0        0             0      No      1  \n",
       "4             1         1           0        0             0      No      3  "
      ]
     },
     "execution_count": 22,
     "metadata": {},
     "output_type": "execute_result"
    }
   ],
   "source": [
    "df.head()"
   ]
  },
  {
   "cell_type": "code",
   "execution_count": 88,
   "id": "6465e114",
   "metadata": {},
   "outputs": [
    {
     "data": {
      "image/png": "[encoded data removed]",
      "text/plain": [
       "<Figure size 576x360 with 1 Axes>"
      ]
     },
     "metadata": {},
     "output_type": "display_data"
    }
   ],
   "source": [
    "#Plot the age group base on patient show up for appointment\n",
    "\n",
    "labels = ['0-20', '21-40', '41-60', '61-80', '81+']\n",
    "\n",
    "sns.set()\n",
    "width = 0.85\n",
    "plt.figure(figsize=(8,5))\n",
    "df[df['No-show']=='No'].age_c.value_counts().plot(kind='bar', label = 'show-up')\n",
    "df[df['No-show']=='Yes'].age_c.value_counts().plot(kind='bar',color = 'r', label = 'No show-up')\n",
    "plt.title('Total number of patients for each age group')\n",
    "plt.xlabel('Age group')\n",
    "plt.ylabel('Number of patients')\n",
    "plt.legend()\n",
    "plt.xticks(range(5),labels, rotation = 0)\n",
    "plt.show()"
   ]
  },
  {
   "cell_type": "markdown",
   "id": "5655686e",
   "metadata": {},
   "source": [
    "The chart shows that the patient that show-up more for appointment are between the age of 0 to 40. To conclude on the , the best is to chech the proportion of each age group, which will be done next."
   ]
  },
  {
   "cell_type": "code",
   "execution_count": 80,
   "id": "d22cb511",
   "metadata": {},
   "outputs": [
    {
     "data": {
      "image/png": "[encoded data removed]",
      "text/plain": [
       "<Figure size 432x288 with 1 Axes>"
      ]
     },
     "metadata": {},
     "output_type": "display_data"
    }
   ],
   "source": [
    "#Calculating propotion of patients that show up for appoinment among the age group\n",
    "df[df['No-show']=='No'].age_c.value_counts()\n",
    "df[df['No-show']=='Yes'].age_c.value_counts()\n",
    "\n",
    "prop = pd.DataFrame(df[df['No-show']=='No'].age_c.value_counts()/(df[df['No-show']=='No'].age_c.value_counts() + df[df['No-show']=='Yes'].age_c.value_counts()))\n",
    "prop.plot(kind=\"bar\")\n",
    "plt.title('Total number of patients for each age group')\n",
    "plt.xlabel('Age group')\n",
    "plt.ylabel('Number of patients')\n",
    "plt.xticks(range(5),labels, rotation = 0)\n",
    "plt.show()"
   ]
  },
  {
   "cell_type": "markdown",
   "id": "f4018386",
   "metadata": {},
   "source": [
    "Base on the proportion, the plot shows that patient that are more punctual for there appointmeant are of the age range of 61-80, followed by patient of 80 years and above. "
   ]
  },
  {
   "cell_type": "code",
   "execution_count": 81,
   "id": "10735a18",
   "metadata": {},
   "outputs": [],
   "source": [
    "#Function to calculate the propotion of patient that show up for appoinment among the age group\n",
    "label = ['False','True']\n",
    "def propo(x,label):\n",
    "    proportion = pd.DataFrame(df[df['No-show']=='No'][x].value_counts()/(df[df['No-show']=='No'][x].value_counts() + df[df['No-show']=='Yes'][x].value_counts()))\n",
    "    \n",
    "    plt.bar(proportion.index,proportion[x],width = 0.4)\n",
    "    plt.title('Proportion of patients that show-up for appointment')\n",
    "    plt.xlabel(x)\n",
    "    plt.ylabel('Proportion of patients')\n",
    "    plt.xticks(range(len(label)),label, rotation = 0)\n",
    "    plt.show()\n"
   ]
  },
  {
   "cell_type": "code",
   "execution_count": 82,
   "id": "105677f3",
   "metadata": {},
   "outputs": [
    {
     "data": {
      "image/png": "[encoded data removed]",
      "text/plain": [
       "<Figure size 432x288 with 1 Axes>"
      ]
     },
     "metadata": {},
     "output_type": "display_data"
    }
   ],
   "source": [
    "propo('Scholarship',label)"
   ]
  },
  {
   "cell_type": "markdown",
   "id": "ab04dc31",
   "metadata": {},
   "source": [
    "Also, the chart above shows the proportion of patient that show-up for appointment base on their scholarship status. It can be seen that patient with no scholarship show-up for there appointment compare to those patient with scholarship."
   ]
  },
  {
   "cell_type": "code",
   "execution_count": 61,
   "id": "1107107b",
   "metadata": {},
   "outputs": [
    {
     "data": {
      "image/png": "[encoded data removed]",
      "text/plain": [
       "<Figure size 432x288 with 1 Axes>"
      ]
     },
     "metadata": {},
     "output_type": "display_data"
    }
   ],
   "source": [
    "propo('Hipertension',label)"
   ]
  },
  {
   "cell_type": "markdown",
   "id": "4096d93d",
   "metadata": {},
   "source": [
    "The chart above shows the proportion of patient that show-up for appointment base on their hypertension status. It can be seen that patient that have hypertention show-up for there appointment compare to those patient without hypertension."
   ]
  },
  {
   "cell_type": "code",
   "execution_count": 62,
   "id": "ccd0d184",
   "metadata": {},
   "outputs": [
    {
     "data": {
      "image/png": "[encoded data removed]",
      "text/plain": [
       "<Figure size 432x288 with 1 Axes>"
      ]
     },
     "metadata": {},
     "output_type": "display_data"
    }
   ],
   "source": [
    "propo('Diabetes',label)"
   ]
  },
  {
   "cell_type": "markdown",
   "id": "833fb1c4",
   "metadata": {},
   "source": [
    "As expected, patient with diabetes show up for their appointment more than patient without diabetes."
   ]
  },
  {
   "cell_type": "code",
   "execution_count": 63,
   "id": "2e3b2397",
   "metadata": {},
   "outputs": [
    {
     "data": {
      "image/png": "[encoded data removed]",
      "text/plain": [
       "<Figure size 432x288 with 1 Axes>"
      ]
     },
     "metadata": {},
     "output_type": "display_data"
    }
   ],
   "source": [
    "propo('Alcoholism',label)"
   ]
  },
  {
   "cell_type": "markdown",
   "id": "94cbe1c4",
   "metadata": {},
   "source": [
    "The chart above shows that patient with alcoholism have almost the same chance of showing up for their appointment with patient without alcoholism."
   ]
  },
  {
   "cell_type": "code",
   "execution_count": 64,
   "id": "ff3d7d59",
   "metadata": {},
   "outputs": [
    {
     "data": {
      "image/png": "[encoded data removed]",
      "text/plain": [
       "<Figure size 432x288 with 1 Axes>"
      ]
     },
     "metadata": {},
     "output_type": "display_data"
    }
   ],
   "source": [
    "propo('SMS_received',label)"
   ]
  },
  {
   "cell_type": "markdown",
   "id": "fabb9e19",
   "metadata": {},
   "source": [
    "The chart above shows that patient that did not receive SMS have higher proportion of patients that show-up for there appointment compare to those that do not show up for their appointment"
   ]
  },
  {
   "cell_type": "code",
   "execution_count": 65,
   "id": "cf53b8a3",
   "metadata": {},
   "outputs": [
    {
     "data": {
      "image/png": "[encoded data removed]",
      "text/plain": [
       "<Figure size 432x288 with 1 Axes>"
      ]
     },
     "metadata": {},
     "output_type": "display_data"
    }
   ],
   "source": [
    "propo('Handcap',label)"
   ]
  },
  {
   "cell_type": "markdown",
   "id": "0ff1dca5",
   "metadata": {},
   "source": [
    "It can be seen that patient that are handicap have higher perportion of patients that show-up for there appointment compare to those patient that are not handicap."
   ]
  },
  {
   "cell_type": "markdown",
   "id": "00b79943",
   "metadata": {},
   "source": [
    "### Research Question 2 : What impact does days have on showing up for medical appointment?"
   ]
  },
  {
   "cell_type": "code",
   "execution_count": 67,
   "id": "1c471412",
   "metadata": {},
   "outputs": [],
   "source": [
    "#Extracting day of the week from the date column\n",
    "df['day_of_week'] = df['AppointmentDay'].dt.day_name()"
   ]
  },
  {
   "cell_type": "code",
   "execution_count": 83,
   "id": "d8379bb6",
   "metadata": {},
   "outputs": [],
   "source": [
    "#Calculating the difference between AppointmentDay and ScheduledDay\n",
    "df['Day_diff'] = (df['AppointmentDay'] - df['ScheduledDay']).dt.days"
   ]
  },
  {
   "cell_type": "code",
   "execution_count": 84,
   "id": "61991e8f",
   "metadata": {},
   "outputs": [
    {
     "data": {
      "image/png": "[encoded data removed]",
      "text/plain": [
       "<Figure size 432x288 with 1 Axes>"
      ]
     },
     "metadata": {},
     "output_type": "display_data"
    }
   ],
   "source": [
    "label = ['Friday', 'Tuesday','Monday','Wednesday', 'Thursday','Saturday']\n",
    "\n",
    "propo('day_of_week',label)"
   ]
  },
  {
   "cell_type": "markdown",
   "id": "f6532439",
   "metadata": {},
   "source": [
    "The chart above shows that patient shows up for their appointment more on Tuesday, Wednesday, Thursday, and Saturday as comapre to other days. Monday has the least showing up rate."
   ]
  },
  {
   "cell_type": "code",
   "execution_count": 87,
   "id": "3222f293",
   "metadata": {},
   "outputs": [
    {
     "data": {
      "image/png": "[encoded data removed]",
      "text/plain": [
       "<Figure size 432x288 with 1 Axes>"
      ]
     },
     "metadata": {},
     "output_type": "display_data"
    }
   ],
   "source": [
    "#Histogram for the difference between AppointmentDay and ScheduledDay\n",
    "plt.hist(df[df['No-show']=='No'].Day_diff, alpha = 0.5, label = 'show-up')\n",
    "plt.hist(df[df['No-show']=='Yes'].Day_diff, color = 'r', alpha = 0.5, label = 'no show-up')\n",
    "plt.title('Difference between AppointmentDay and ScheduledDay')\n",
    "plt.xlabel('Day difference')\n",
    "plt.ylabel(\"Number of patients\")\n",
    "plt.legend()\n",
    "plt.show()"
   ]
  },
  {
   "cell_type": "markdown",
   "id": "30166ad2",
   "metadata": {},
   "source": [
    "The difference between appointment day and scheduled day histogram shows the time difference distribution, it can be seen that patient that the difference between their appointment day and schedule day is between 0 and 20days show up more for the appointments."
   ]
  },
  {
   "cell_type": "markdown",
   "id": "a7584f5e",
   "metadata": {},
   "source": [
    "<a id='conclusions'></a>\n",
    "## Conclusions\n",
    "\n",
    "> **>** The project investigate medical appointments in Brazil. The investigation was based on the factors that influence patients showing up for their appointments.\n",
    "\n",
    "> **1**: It was observed that majority i.e 79.8% of the patients show up for their appointments. Also, it was observed that patients who are 40 years and above show up for their appointments compare to those patients with lesser age. This can be said that patients of age less than forty years except children are busier and due miss appointments.\n",
    "\n",
    "> **2**: Furthermore, patients without scholarship and patients that did not receive SMS tend to show up for their appointments compare to patients with scholarship and patients that received SMS.\n",
    "\n",
    "> **3**: Patient with illness like hypertension, diabetes and patients that are handicaps have higher proportion of patients that shows up for thier appointment. It was obsereved  that saturday been the weekend and wednesday been the mid-week, patients that have appointments on those two days have higher proportion of showing up for their appointments. Monday been a working day have the lowest proportion of patients that show up for their appointments. Finally, the number of days between theaAppointment day and scheduled day is very important bacause patient with difference above 20 days tend to miss the appointment.\n"
   ]
  },
  {
   "cell_type": "code",
   "execution_count": 91,
   "id": "6d9fe2d1",
   "metadata": {},
   "outputs": [
    {
     "name": "stdout",
     "output_type": "stream",
     "text": [
      "Collecting pandoc\n",
      "  Downloading pandoc-2.2.tar.gz (29 kB)\n",
      "Collecting plumbum\n",
      "  Downloading plumbum-1.7.2-py2.py3-none-any.whl (117 kB)\n",
      "Collecting ply\n",
      "  Downloading ply-3.11-py2.py3-none-any.whl (49 kB)\n",
      "Requirement already satisfied: pywin32 in c:\\users\\hp\\anaconda3\\lib\\site-packages (from plumbum->pandoc) (302)\n",
      "Building wheels for collected packages: pandoc\n",
      "  Building wheel for pandoc (setup.py): started\n",
      "  Building wheel for pandoc (setup.py): finished with status 'done'\n",
      "  Created wheel for pandoc: filename=pandoc-2.2-py3-none-any.whl size=29557 sha256=aaddd805cf3cc6e81e203d47038f0fe969e93a171a179efa610f045a2ef871e4\n",
      "  Stored in directory: c:\\users\\hp\\appdata\\local\\pip\\cache\\wheels\\2d\\da\\b1\\54ff0401ef9b07b60c7fc9cffe616f243cf27dc3d04bd5d5ef\n",
      "Successfully built pandoc\n",
      "Installing collected packages: ply, plumbum, pandoc\n",
      "Successfully installed pandoc-2.2 plumbum-1.7.2 ply-3.11\n",
      "Note: you may need to restart the kernel to use updated packages.\n"
     ]
    }
   ],
   "source": [
    "pip install pandoc"
   ]
  },
  {
   "cell_type": "code",
   "execution_count": null,
   "id": "0fe3a8b3",
   "metadata": {},
   "outputs": [],
   "source": []
  }
 ],
 "metadata": {
  "kernelspec": {
   "display_name": "Python 3 (ipykernel)",
   "language": "python",
   "name": "python3"
  },
  "language_info": {
   "codemirror_mode": {
    "name": "ipython",
    "version": 3
   },
   "file_extension": ".py",
   "mimetype": "text/x-python",
   "name": "python",
   "nbconvert_exporter": "python",
   "pygments_lexer": "ipython3",
   "version": "3.9.12"
  }
 },
 "nbformat": 4,
 "nbformat_minor": 5
}
